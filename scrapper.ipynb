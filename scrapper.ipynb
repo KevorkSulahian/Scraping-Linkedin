{
 "cells": [
  {
   "cell_type": "code",
   "execution_count": 1,
   "metadata": {},
   "outputs": [],
   "source": [
    "#Import Packages\n",
    "from selenium import webdriver\n",
    "import time\n",
    "import pandas as pd\n",
    "import os"
   ]
  },
  {
   "cell_type": "code",
   "execution_count": 2,
   "metadata": {},
   "outputs": [],
   "source": [
    "from selenium.webdriver.support.select import Select\n",
    "from selenium.webdriver.support.ui import WebDriverWait\n",
    "from selenium.webdriver.common.by import By\n",
    "from selenium.webdriver.support import expected_conditions as EC"
   ]
  },
  {
   "cell_type": "code",
   "execution_count": 3,
   "metadata": {},
   "outputs": [],
   "source": [
    "from selenium import webdriver \n",
    "from selenium.webdriver.chrome.options import Options \n",
    "\n",
    "# options = webdriver.ChromeOptions()\n",
    "# options.add_extension(\"Crx4Chrome.com.crx\")\n",
    "#Load the web driver and get the url\n",
    "\n",
    "driver = webdriver.Chrome(executable_path=\"/Users/herooooooooo/Desktop/SA_projects/linkedin/chromedriver\")\n"
   ]
  },
  {
   "cell_type": "code",
   "execution_count": 4,
   "metadata": {},
   "outputs": [],
   "source": [
    "url1='https://www.linkedin.com/login'\n",
    "\n",
    "driver.implicitly_wait(4)\n",
    "driver.get(url1)"
   ]
  },
  {
   "cell_type": "code",
   "execution_count": 5,
   "metadata": {},
   "outputs": [],
   "source": [
    "from time import sleep"
   ]
  },
  {
   "cell_type": "code",
   "execution_count": 6,
   "metadata": {},
   "outputs": [
    {
     "name": "stdout",
     "output_type": "stream",
     "text": [
      "- Finish keying in email\n",
      "- Finish keying in password\n"
     ]
    }
   ],
   "source": [
    "email_field = driver.find_element_by_id('username')\n",
    "email_field.send_keys('kevorkysulahian@gmail.com')\n",
    "print('- Finish keying in email')\n",
    "sleep(1)\n",
    "password_field = driver.find_element_by_name('session_password')\n",
    "password_field.send_keys('egg9ahzic')\n",
    "print('- Finish keying in password')\n",
    "sleep(1)\n",
    "\n",
    "signin_field = driver.find_element_by_xpath('//*[@id=\"organic-div\"]/form/div[3]/button')\n",
    "signin_field.click()\n",
    "sleep(4)"
   ]
  },
  {
   "cell_type": "code",
   "execution_count": 12,
   "metadata": {},
   "outputs": [
    {
     "data": {
      "text/plain": [
       "[]"
      ]
     },
     "execution_count": 12,
     "metadata": {},
     "output_type": "execute_result"
    }
   ],
   "source": [
    "import requests\n",
    "from lxml import html\n",
    "import csv\n",
    "\n",
    "url = \"https://www.swfinstitute.org/fund-manager-rankings/hedge-fund-manager\"\n",
    "response = requests.get(url)\n",
    "tree = html.fromstring(response.content)\n",
    "\n",
    "companies = tree.xpath('//*[contains(concat( \" \", @class, \" \" ), concat( \" \", \"table-striped\", \" \" ))]//a/text()')\n",
    "companies"
   ]
  },
  {
   "cell_type": "code",
   "execution_count": 9,
   "metadata": {},
   "outputs": [],
   "source": [
    "def clean_company_name(company_name):\n",
    "    extra_stuff = ['LLC', 'LP', 'Inc.', 'Co.', 'Corp.', 'Ltd.', 'LLP', 'PLC', 'AG', 'AB', 'BV', 'GmbH']\n",
    "\n",
    "    \n",
    "    # Remove extra stuff\n",
    "    cleaned_name = ' '.join(word for word in company_name.split() if word not in extra_stuff)\n",
    "    \n",
    "    # Remove commas\n",
    "    cleaned_name = cleaned_name.replace(',', '')\n",
    "    cleaned_name = cleaned_name.replace(' ', '%20')\n",
    "    \n",
    "    return cleaned_name"
   ]
  },
  {
   "cell_type": "code",
   "execution_count": 7,
   "metadata": {},
   "outputs": [
    {
     "data": {
      "text/html": [
       "<div>\n",
       "<style scoped>\n",
       "    .dataframe tbody tr th:only-of-type {\n",
       "        vertical-align: middle;\n",
       "    }\n",
       "\n",
       "    .dataframe tbody tr th {\n",
       "        vertical-align: top;\n",
       "    }\n",
       "\n",
       "    .dataframe thead th {\n",
       "        text-align: right;\n",
       "    }\n",
       "</style>\n",
       "<table border=\"1\" class=\"dataframe\">\n",
       "  <thead>\n",
       "    <tr style=\"text-align: right;\">\n",
       "      <th></th>\n",
       "      <th>Rank</th>\n",
       "      <th>Company</th>\n",
       "    </tr>\n",
       "  </thead>\n",
       "  <tbody>\n",
       "    <tr>\n",
       "      <th>0</th>\n",
       "      <td>1</td>\n",
       "      <td>Bridgewater Associates, LP</td>\n",
       "    </tr>\n",
       "    <tr>\n",
       "      <th>1</th>\n",
       "      <td>2</td>\n",
       "      <td>Balyasny Asset Management</td>\n",
       "    </tr>\n",
       "    <tr>\n",
       "      <th>2</th>\n",
       "      <td>3</td>\n",
       "      <td>Tiger Global Management LLC</td>\n",
       "    </tr>\n",
       "    <tr>\n",
       "      <th>3</th>\n",
       "      <td>4</td>\n",
       "      <td>Garda Capital Partners</td>\n",
       "    </tr>\n",
       "    <tr>\n",
       "      <th>4</th>\n",
       "      <td>5</td>\n",
       "      <td>Renaissance Technologies LLC</td>\n",
       "    </tr>\n",
       "  </tbody>\n",
       "</table>\n",
       "</div>"
      ],
      "text/plain": [
       "   Rank                       Company\n",
       "0     1    Bridgewater Associates, LP\n",
       "1     2     Balyasny Asset Management\n",
       "2     3   Tiger Global Management LLC\n",
       "3     4        Garda Capital Partners\n",
       "4     5  Renaissance Technologies LLC"
      ]
     },
     "execution_count": 7,
     "metadata": {},
     "output_type": "execute_result"
    }
   ],
   "source": [
    "df = pd.read_csv(\"companies.csv\")\n",
    "df.head()"
   ]
  },
  {
   "cell_type": "code",
   "execution_count": 10,
   "metadata": {},
   "outputs": [
    {
     "name": "stdout",
     "output_type": "stream",
     "text": [
      "https://www.linkedin.com/search/results/companies/?keywords=Bridgewater%20Associates\n",
      "https://www.linkedin.com/search/results/companies/?keywords=Balyasny%20Asset%20Management\n",
      "https://www.linkedin.com/search/results/companies/?keywords=Tiger%20Global%20Management\n",
      "https://www.linkedin.com/search/results/companies/?keywords=Garda%20Capital%20Partners\n",
      "https://www.linkedin.com/search/results/companies/?keywords=Renaissance%20Technologies\n",
      "https://www.linkedin.com/search/results/companies/?keywords=ExodusPoint%20Capital%20Management\n",
      "https://www.linkedin.com/search/results/companies/?keywords=Squarepoint%20Capital\n",
      "https://www.linkedin.com/search/results/companies/?keywords=Capula%20Investment%20Management\n",
      "https://www.linkedin.com/search/results/companies/?keywords=Coatue%20Capital%20L.L.C.\n",
      "https://www.linkedin.com/search/results/companies/?keywords=Two%20Sigma\n",
      "https://www.linkedin.com/search/results/companies/?keywords=Lighthouse%20Investment%20Partners\n",
      "https://www.linkedin.com/search/results/companies/?keywords=Haidar%20Capital%20Management\n",
      "https://www.linkedin.com/search/results/companies/?keywords=Viking%20Global%20Investors\n",
      "https://www.linkedin.com/search/results/companies/?keywords=Adage%20Capital%20Management\n",
      "https://www.linkedin.com/search/results/companies/?keywords=Elliott%20Management%20Corporation\n",
      "https://www.linkedin.com/search/results/companies/?keywords=Marshall%20Wace\n",
      "https://www.linkedin.com/search/results/companies/?keywords=Millennium%20Management\n",
      "https://www.linkedin.com/search/results/companies/?keywords=Element%20Capital%20Management\n",
      "https://www.linkedin.com/search/results/companies/?keywords=Davidson%20Kempner%20Capital%20Management\n",
      "https://www.linkedin.com/search/results/companies/?keywords=Farallon%20Capital%20Management\n",
      "https://www.linkedin.com/search/results/companies/?keywords=Alphadyne%20Asset%20Management\n",
      "https://www.linkedin.com/search/results/companies/?keywords=Tenaron%20Capital%20Management\n",
      "https://www.linkedin.com/search/results/companies/?keywords=D.%20E.%20Shaw%20&%20Co.%20L.P.\n",
      "https://www.linkedin.com/search/results/companies/?keywords=Orbis%20Investment%20Management\n",
      "https://www.linkedin.com/search/results/companies/?keywords=Sculptor%20Capital%20Management\n",
      "https://www.linkedin.com/search/results/companies/?keywords=Lone%20Pine%20Capital\n",
      "https://www.linkedin.com/search/results/companies/?keywords=The%20Baupost%20Group\n",
      "https://www.linkedin.com/search/results/companies/?keywords=Verition%20Fund%20Management\n",
      "https://www.linkedin.com/search/results/companies/?keywords=Anchorage%20Capital%20Group\n",
      "https://www.linkedin.com/search/results/companies/?keywords=Holocene%20Advisors\n",
      "https://www.linkedin.com/search/results/companies/?keywords=Moore%20Capital%20Management\n",
      "https://www.linkedin.com/search/results/companies/?keywords=Voloridge%20Investment%20Management\n",
      "https://www.linkedin.com/search/results/companies/?keywords=Egerton%20Capital\n",
      "https://www.linkedin.com/search/results/companies/?keywords=Caxton%20Associates\n",
      "https://www.linkedin.com/search/results/companies/?keywords=Linden%20Advisors\n",
      "https://www.linkedin.com/search/results/companies/?keywords=Baker%20Brothers%20Investments\n",
      "https://www.linkedin.com/search/results/companies/?keywords=Marathon%20Asset%20Management\n",
      "https://www.linkedin.com/search/results/companies/?keywords=Tudor%20Investment%20Corporation\n",
      "https://www.linkedin.com/search/results/companies/?keywords=King%20Street%20Capital\n",
      "https://www.linkedin.com/search/results/companies/?keywords=Whale%20Rock%20Capital%20Management\n",
      "https://www.linkedin.com/search/results/companies/?keywords=Altimeter%20Capital%20Management\n",
      "https://www.linkedin.com/search/results/companies/?keywords=Brevan%20Howard%20Asset%20Management\n",
      "https://www.linkedin.com/search/results/companies/?keywords=CQS\n",
      "https://www.linkedin.com/search/results/companies/?keywords=Galton%20Capital%20Group\n",
      "https://www.linkedin.com/search/results/companies/?keywords=Axiom%20Investors\n",
      "https://www.linkedin.com/search/results/companies/?keywords=Pharo%20Management\n",
      "https://www.linkedin.com/search/results/companies/?keywords=Echo%20Street%20Capital%20Management\n",
      "https://www.linkedin.com/search/results/companies/?keywords=Palmer%20Square%20Capital%20Management\n",
      "https://www.linkedin.com/search/results/companies/?keywords=Adrian%20Lee%20&%20Partners\n",
      "https://www.linkedin.com/search/results/companies/?keywords=Universa%20Investments%20L.P.\n",
      "https://www.linkedin.com/search/results/companies/?keywords=Knighthead%20Capital%20Management\n",
      "https://www.linkedin.com/search/results/companies/?keywords=Heptagon%20Capital\n",
      "https://www.linkedin.com/search/results/companies/?keywords=Bayview%20Asset%20Management\n",
      "https://www.linkedin.com/search/results/companies/?keywords=Laurion%20Capital%20Management\n",
      "https://www.linkedin.com/search/results/companies/?keywords=EnTrust%20Capital\n",
      "https://www.linkedin.com/search/results/companies/?keywords=Magnetar%20Capital\n",
      "https://www.linkedin.com/search/results/companies/?keywords=Soroban%20Capital%20Partners\n",
      "https://www.linkedin.com/search/results/companies/?keywords=BlueMountain%20Capital%20Management\n",
      "https://www.linkedin.com/search/results/companies/?keywords=Perceptive%20Advisors\n",
      "https://www.linkedin.com/search/results/companies/?keywords=Algebris%20Investments\n",
      "https://www.linkedin.com/search/results/companies/?keywords=Hudson%20Bay%20Capital%20Management\n",
      "https://www.linkedin.com/search/results/companies/?keywords=Paloma%20Partners\n",
      "https://www.linkedin.com/search/results/companies/?keywords=Hildene%20Capital%20Management\n",
      "https://www.linkedin.com/search/results/companies/?keywords=Maverick%20Capital\n",
      "https://www.linkedin.com/search/results/companies/?keywords=Samlyn%20Capital\n",
      "https://www.linkedin.com/search/results/companies/?keywords=Napier%20Park%20Global%20Capital\n",
      "https://www.linkedin.com/search/results/companies/?keywords=Luxor%20Capital\n",
      "https://www.linkedin.com/search/results/companies/?keywords=Aristeia%20Capital\n",
      "https://www.linkedin.com/search/results/companies/?keywords=Centiva%20Capital\n",
      "https://www.linkedin.com/search/results/companies/?keywords=Glenmede%20Investment%20Management\n",
      "https://www.linkedin.com/search/results/companies/?keywords=Taconic%20Capital\n",
      "https://www.linkedin.com/search/results/companies/?keywords=Alyeska%20Investment%20Group\n",
      "https://www.linkedin.com/search/results/companies/?keywords=Qube%20Research%20and%20Technologies\n",
      "https://www.linkedin.com/search/results/companies/?keywords=Wolverine%20Asset%20Management\n",
      "https://www.linkedin.com/search/results/companies/?keywords=Corbin%20Capital%20Partners\n",
      "https://www.linkedin.com/search/results/companies/?keywords=Senator%20Investment%20Group\n",
      "https://www.linkedin.com/search/results/companies/?keywords=Rokos%20Capital\n",
      "https://www.linkedin.com/search/results/companies/?keywords=Lansdowne%20Partners\n",
      "https://www.linkedin.com/search/results/companies/?keywords=Zimmer%20Partners\n",
      "https://www.linkedin.com/search/results/companies/?keywords=Chatham%20Asset%20Management\n",
      "https://www.linkedin.com/search/results/companies/?keywords=Systematica%20Investments\n",
      "https://www.linkedin.com/search/results/companies/?keywords=Antipodes%20Partners\n",
      "https://www.linkedin.com/search/results/companies/?keywords=Atalaya%20Capital%20Management\n",
      "https://www.linkedin.com/search/results/companies/?keywords=Tilden%20Park%20Capital%20Management\n",
      "https://www.linkedin.com/search/results/companies/?keywords=Walleye%20Capital\n",
      "https://www.linkedin.com/search/results/companies/?keywords=Kirkoswald%20Capital%20Partners\n",
      "https://www.linkedin.com/search/results/companies/?keywords=Voleon%20Group\n",
      "https://www.linkedin.com/search/results/companies/?keywords=Emso%20Asset%20Management\n",
      "https://www.linkedin.com/search/results/companies/?keywords=Bardin%20Hill%20Investment%20Partners\n",
      "https://www.linkedin.com/search/results/companies/?keywords=Kopernik%20Global%20Investors\n",
      "https://www.linkedin.com/search/results/companies/?keywords=Kensico%20Capital%20Management\n",
      "https://www.linkedin.com/search/results/companies/?keywords=Junto%20Capital%20Management\n",
      "https://www.linkedin.com/search/results/companies/?keywords=Empyrean%20Capital\n",
      "https://www.linkedin.com/search/results/companies/?keywords=PointState%20Capital\n",
      "https://www.linkedin.com/search/results/companies/?keywords=Cormorant%20Asset%20Management\n",
      "https://www.linkedin.com/search/results/companies/?keywords=Carlson%20Capital\n",
      "https://www.linkedin.com/search/results/companies/?keywords=HMI%20Capital%20Management\n",
      "https://www.linkedin.com/search/results/companies/?keywords=One%20William%20Street%20Capital%20Management\n",
      "https://www.linkedin.com/search/results/companies/?keywords=Coolabah%20Capital%20Investments\n",
      "https://www.linkedin.com/search/results/companies/?keywords=BVF%20Partners%20L.P.\n"
     ]
    }
   ],
   "source": [
    "company_links = []\n",
    "for i, row in df.iterrows():\n",
    "  clean_name = clean_company_name(row['Company'])\n",
    "  company_search_page = f\"https://www.linkedin.com/search/results/companies/?keywords={clean_name}\"\n",
    "  print(company_search_page)\n",
    "  driver.get(company_search_page)\n",
    "  sleep(2)\n",
    "  try:\n",
    "    element = driver.find_element_by_xpath('/html/body/div[5]/div[3]/div[2]/div/div[1]/main/div/div/div[2]/div/ul/li[1]/div/div/div[2]/div[1]/div[1]/div/span/span/a')\n",
    "  except:\n",
    "    try:\n",
    "      element = driver.find_element_by_xpath('/html/body/div[5]/div[3]/div[2]/div/div[1]/main/div/div/div[3]/div/ul/li/div/div/div[2]/div[1]/div[1]/div/span/span/a')\n",
    "    except:\n",
    "      continue\n",
    "  # Extract the link\n",
    "  link = element.get_attribute(\"href\")\n",
    "\n",
    "  # Print the link\n",
    "  company_links.append(link)\n",
    "  \n",
    "  \n"
   ]
  },
  {
   "cell_type": "code",
   "execution_count": 12,
   "metadata": {},
   "outputs": [
    {
     "name": "stdout",
     "output_type": "stream",
     "text": [
      "['https://www.linkedin.com/company/bridgewater-associates/', 'https://www.linkedin.com/company/balyasny-asset-management-l.p./', 'https://www.linkedin.com/company/tiger-global-management/', 'https://www.linkedin.com/company/garda-capital-partners/', 'https://www.linkedin.com/company/renaissance-technologies-llc/', 'https://www.linkedin.com/company/exoduspoint/', 'https://www.linkedin.com/company/squarepoint-capital/', 'https://www.linkedin.com/company/capula_2/', 'https://www.linkedin.com/company/coatue/', 'https://www.linkedin.com/company/two-sigma-investments/', 'https://www.linkedin.com/company/lighthouse-investment-partners-llc/', 'https://www.linkedin.com/company/haidar-capital-management/', 'https://www.linkedin.com/company/viking-global-investors/', 'https://www.linkedin.com/company/adage-capital-management/', 'https://www.linkedin.com/company/elliottinvestmentmanagementlp/', 'https://www.linkedin.com/company/marshall-wace/', 'https://www.linkedin.com/company/millennium-events-management/', 'https://www.linkedin.com/company/element-capital-management/', 'https://www.linkedin.com/company/davidson-kempner-capital-management/', 'https://www.linkedin.com/company/farallon-capital-management/', 'https://www.linkedin.com/company/alphadyne-asset-management/', 'https://www.linkedin.com/company/tenaron-capital-management/', 'https://www.linkedin.com/company/d.-e.-shaw-&-co./', 'https://www.linkedin.com/company/orbis-investment-management-u.s.-llc/', 'https://www.linkedin.com/company/sculptor-capital-management/', 'https://www.linkedin.com/company/lone-pine-capital-llc/', 'https://www.linkedin.com/company/the-baupost-group/', 'https://www.linkedin.com/company/verition/', 'https://www.linkedin.com/company/anchorage-capital/', 'https://www.linkedin.com/company/holocene-advisors-lp/', 'https://www.linkedin.com/company/moore-capital-management/', 'https://www.linkedin.com/company/voloridge-investment-management/', 'https://www.linkedin.com/company/egerton-capital-uk-llp/', 'https://www.linkedin.com/company/caxton-associates/', 'https://www.linkedin.com/company/linden-advisors/', 'https://www.linkedin.com/company/baker-brothers-investments-llc/', 'https://www.linkedin.com/company/marathon-asset-management/', 'https://www.linkedin.com/company/xantium-group-tudor-investment-corporation/', 'https://www.linkedin.com/company/kingstreet-capital-management/', 'https://www.linkedin.com/company/whale-rock-capital-management-llc/', 'https://www.linkedin.com/company/altimeter-capital-management-llc/', 'https://www.linkedin.com/company/brevan-howard-asset-management-llp/', 'https://www.linkedin.com/company/cqs/', 'https://www.linkedin.com/company/axiom-investors/', 'https://www.linkedin.com/company/pharo-management/', 'https://www.linkedin.com/company/echo-street-capital-management-llc/', 'https://www.linkedin.com/company/palmer-square-capital/', 'https://www.linkedin.com/company/lee-overlay-partners/', 'https://www.linkedin.com/company/universa-investments-l.p./', 'https://www.linkedin.com/company/knighthead-capital-llc/', 'https://www.linkedin.com/company/heptagon-capital/', 'https://www.linkedin.com/company/bayview-asset-management/', 'https://www.linkedin.com/company/laurion-capital/', 'https://www.linkedin.com/company/entrustcapitallimited/', 'https://www.linkedin.com/company/magnetar-capital/', 'https://www.linkedin.com/company/soroban-capital-partners-lp/', 'https://www.linkedin.com/company/perceptive-advisors-llc/', 'https://www.linkedin.com/company/algebris-investments/', 'https://www.linkedin.com/company/hudson-bay-capital-management-lp/', 'https://www.linkedin.com/company/paloma-partners-management-company/', 'https://www.linkedin.com/company/hildene-capital-management/', 'https://www.linkedin.com/company/maverick-capital/', 'https://www.linkedin.com/company/samlyn-capital/', 'https://www.linkedin.com/company/napier-park-global-capital-ltd/', 'https://www.linkedin.com/company/luxor-capital-llc/', 'https://www.linkedin.com/company/aristeia-capital/', 'https://www.linkedin.com/company/centiva-capital/', 'https://www.linkedin.com/company/glenmede-investment-management/', 'https://www.linkedin.com/company/taconic-capital/', 'https://www.linkedin.com/company/qube-rt/', 'https://www.linkedin.com/company/wolverine-asset-management-llc/', 'https://www.linkedin.com/company/corbin-capital-partners/', 'https://www.linkedin.com/company/senator-investment-group-lp/', 'https://www.linkedin.com/company/rokoscapitalmanagement/', 'https://www.linkedin.com/company/lansdowne-partners/', 'https://www.linkedin.com/company/zimmer-partners-lp/', 'https://www.linkedin.com/company/systematica-investments/', 'https://www.linkedin.com/company/atalaya-capital-management/', 'https://www.linkedin.com/company/tilden-park-capital-management/', 'https://www.linkedin.com/company/walleye-trading-advisors/', 'https://www.linkedin.com/company/allianz/', 'https://www.linkedin.com/company/voleon-capital-management/', 'https://www.linkedin.com/company/emso-asset-management/', 'https://www.linkedin.com/company/bardinhill/', 'https://www.linkedin.com/company/kopernik-global-investors-llc/', 'https://www.linkedin.com/company/kensico-capital-management/', 'https://www.linkedin.com/company/junto-capital-management-lp/', 'https://www.linkedin.com/company/empyrean-capital-partners-limited/', 'https://www.linkedin.com/company/pointstate/', 'https://www.linkedin.com/company/cormorant-asset-management-llc/', 'https://www.linkedin.com/company/carlson-capital-l.p./', 'https://www.linkedin.com/company/hmi-capital-llc/', 'https://www.linkedin.com/company/one-william-street-capital-management-lp/', 'https://www.linkedin.com/company/coolabah-capital-investments/', 'https://www.linkedin.com/company/bvf-partners-l.p/']\n"
     ]
    }
   ],
   "source": [
    "import pickle\n",
    "\n",
    "# Saving the list to a file\n",
    "filename = \"company_list.pkl\"\n",
    "with open(filename, \"wb\") as file:\n",
    "    pickle.dump(company_links, file)\n",
    "\n",
    "\n",
    "# Loading the list from the file\n",
    "with open(filename, \"rb\") as file:\n",
    "    loaded_list = pickle.load(file)\n",
    "\n",
    "# Printing the loaded list\n",
    "print(loaded_list)"
   ]
  },
  {
   "cell_type": "code",
   "execution_count": 13,
   "metadata": {},
   "outputs": [],
   "source": [
    "for i in loaded_list:\n",
    "    driver.get(i + \"jobs\")\n",
    "    try:\n",
    "        element = driver.find_element_by_xpath('/html/body/div[5]/div[3]/div/div[2]/div/div[2]/main/div[2]/div/section/div/div/a')\n",
    "    except:\n",
    "        try:\n",
    "            element = driver.find_element_by_xpath('/html/body/div[4]/div[3]/div/div[2]/div/div[2]/main/div[2]/div/section/div/div/a')\n",
    "        except:\n",
    "            continue\n",
    "    link = element.get_attribute(\"href\")\n",
    "\n",
    "    driver.get(link)\n",
    "    ul_element = driver.find_element_by_xpath(\"/html/body/div[5]/div[3]/div[4]/div/div/main/div/div[1]/div/ul\")\n",
    "    li_elements = ul_element.find_elements_by_xpath(\".//li\")\n",
    "    for li in li_elements:\n",
    "        li.click()\n",
    "\n",
    "    break\n",
    "    print(f\"got new link\")"
   ]
  },
  {
   "cell_type": "code",
   "execution_count": 14,
   "metadata": {},
   "outputs": [],
   "source": [
    "ul_element = driver.find_element_by_xpath(\"/html/body/div[5]/div[3]/div[4]/div/div/main/div/div[1]/div/ul\")\n"
   ]
  },
  {
   "cell_type": "code",
   "execution_count": 18,
   "metadata": {},
   "outputs": [
    {
     "data": {
      "text/plain": [
       "23"
      ]
     },
     "execution_count": 18,
     "metadata": {},
     "output_type": "execute_result"
    }
   ],
   "source": [
    "li_elements = ul_element.find_elements_by_xpath(\".//li\")\n",
    "\n",
    "len(li_elements)"
   ]
  },
  {
   "cell_type": "code",
   "execution_count": 22,
   "metadata": {},
   "outputs": [],
   "source": []
  },
  {
   "cell_type": "code",
   "execution_count": null,
   "metadata": {},
   "outputs": [],
   "source": [
    "//*[@id=\"ember106\"]/h2"
   ]
  }
 ],
 "metadata": {
  "kernelspec": {
   "display_name": "base",
   "language": "python",
   "name": "python3"
  },
  "language_info": {
   "codemirror_mode": {
    "name": "ipython",
    "version": 3
   },
   "file_extension": ".py",
   "mimetype": "text/x-python",
   "name": "python",
   "nbconvert_exporter": "python",
   "pygments_lexer": "ipython3",
   "version": "3.8.8"
  },
  "orig_nbformat": 4,
  "vscode": {
   "interpreter": {
    "hash": "40d3a090f54c6569ab1632332b64b2c03c39dcf918b08424e98f38b5ae0af88f"
   }
  }
 },
 "nbformat": 4,
 "nbformat_minor": 2
}
